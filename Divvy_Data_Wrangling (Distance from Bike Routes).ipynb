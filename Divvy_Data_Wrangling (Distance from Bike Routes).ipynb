{
 "metadata": {
  "name": "",
  "signature": "sha256:6fd976dfe17269584b7874039d1fef5ee4c5f14f4d476460db83c5deb3fc1392"
 },
 "nbformat": 3,
 "nbformat_minor": 0,
 "worksheets": [
  {
   "cells": [
    {
     "cell_type": "code",
     "collapsed": false,
     "input": [
      "import pandas as pd\n",
      "import numpy as np\n",
      "\n",
      "df = pd.read_csv('/Users/kevm1892/Downloads/450219.csv')\n",
      "dfB = pd.read_csv('/Users/kevm1892/Downloads/Divvy_Stations_Trips_2013/Divvy_Stations_2013.csv')\n",
      "\n",
      "#df['STATION'].value_counts()"
     ],
     "language": "python",
     "metadata": {},
     "outputs": [],
     "prompt_number": 2
    },
    {
     "cell_type": "code",
     "collapsed": false,
     "input": [
      "def is_unknown(a):\n",
      "    return a != 'unknown'"
     ],
     "language": "python",
     "metadata": {},
     "outputs": [],
     "prompt_number": 3
    },
    {
     "cell_type": "code",
     "collapsed": false,
     "input": [
      "df_2 = df[df['LATITUDE'].apply(is_unknown)]\n",
      "df_2 = df_2[df_2['PRCP'] != -9999]"
     ],
     "language": "python",
     "metadata": {},
     "outputs": [],
     "prompt_number": 4
    },
    {
     "cell_type": "code",
     "collapsed": false,
     "input": [
      "df['DATE'].value_counts().min()"
     ],
     "language": "python",
     "metadata": {},
     "outputs": [
      {
       "metadata": {},
       "output_type": "pyout",
       "prompt_number": 5,
       "text": [
        "85"
       ]
      }
     ],
     "prompt_number": 5
    },
    {
     "cell_type": "code",
     "collapsed": false,
     "input": [
      "def calc_distance(lat1,lon1,lat2,lon2):\n",
      "    \n",
      "    from math import sin, radians, cos, sqrt, atan2\n",
      "    \n",
      "    lon1, lat1, lon2, lat2 = map(radians, [float(lon1), float(lat1), float(lon2), float(lat2)])\n",
      "    \n",
      "    R = 6373\n",
      "    dlon = lon2 - lon1\n",
      "    dlat = lat2 - lat1\n",
      "    a = (sin(dlat/2))**2 + cos(lat1) * cos(lat2) * (sin(dlon/2))**2\n",
      "    c = 2 * atan2( sqrt(a), sqrt(1-a) )\n",
      "    d = R * c #(where R is the radius of the Earth) \n",
      "    return d"
     ],
     "language": "python",
     "metadata": {},
     "outputs": [],
     "prompt_number": 6
    },
    {
     "cell_type": "code",
     "collapsed": false,
     "input": [
      "dfB['name']"
     ],
     "language": "python",
     "metadata": {},
     "outputs": [
      {
       "metadata": {},
       "output_type": "pyout",
       "prompt_number": 7,
       "text": [
        "0           State St & Harrison St\n",
        "1       Wilton Ave & Diversey Pkwy\n",
        "2              Morgan St & 18th St\n",
        "3             Racine Ave & 18th St\n",
        "4              Wood St & North Ave\n",
        "5            Wood St & Division St\n",
        "6            Loomis St & Taylor St\n",
        "7     Sheffield Ave & Kingsbury St\n",
        "8       Aberdeen St & Jackson Blvd\n",
        "9               May St & Taylor St\n",
        "10             Orleans St & Elm St\n",
        "11        Fairbanks Ct & Grand Ave\n",
        "12       Michigan Ave & Pearson St\n",
        "13        McClurg Ct & Illinois St\n",
        "14         Larrabee St & North Ave\n",
        "...\n",
        "285         Clark St & Chicago Ave\n",
        "286          Calumet Ave & 18th St\n",
        "287          Emerald Ave & 31st St\n",
        "288      Clark St & Wrightwood Ave\n",
        "289              Adler Planetarium\n",
        "290          Wolcott Ave & Polk St\n",
        "291    Racine Ave & Wrightwood Ave\n",
        "292     Wolcott Ave & Lawrence Ave\n",
        "293        Lake Park Ave & 56th St\n",
        "294       Ada St & Washington Blvd\n",
        "295         Ashland Ave & Grace St\n",
        "296       California Ave & 21st St\n",
        "297    Halsted St & Wrightwood Ave\n",
        "298      Ashland Ave & Chicago Ave\n",
        "299    Cottage Grove Ave & 51st St\n",
        "Name: name, Length: 300, dtype: object"
       ]
      }
     ],
     "prompt_number": 7
    },
    {
     "cell_type": "code",
     "collapsed": false,
     "input": [
      "dfB['Weather_Station'].unique()"
     ],
     "language": "python",
     "metadata": {},
     "outputs": [
      {
       "metadata": {},
       "output_type": "pyout",
       "prompt_number": 15,
       "text": [
        "array(['CHICAGO 4.7 NE IL US', 'CHICAGO 6.4 NNE IL US',\n",
        "       'BOOT CAMP CHICAGO 4.2 SW IL US', 'CHICAGO 2.7 WNW IL US',\n",
        "       'CHICAGO 4.8 NNW IL US', 'CHICAGO 5.5 ESE IL US',\n",
        "       'RAVENSWOOD MANOR 0.1 ESE IL US', 'LINCOLNWOOD 3.2 E IL US'], dtype=object)"
       ]
      }
     ],
     "prompt_number": 15
    },
    {
     "cell_type": "code",
     "collapsed": false,
     "input": [
      "dfB"
     ],
     "language": "python",
     "metadata": {},
     "outputs": [
      {
       "html": [
        "<div style=\"max-height:1000px;max-width:1500px;overflow:auto;\">\n",
        "<table border=\"1\" class=\"dataframe\">\n",
        "  <thead>\n",
        "    <tr style=\"text-align: right;\">\n",
        "      <th></th>\n",
        "      <th>id</th>\n",
        "      <th>name</th>\n",
        "      <th>latitude</th>\n",
        "      <th>longitude</th>\n",
        "      <th>dpcapacity</th>\n",
        "      <th>landmark</th>\n",
        "      <th>online date</th>\n",
        "      <th>Weather_Station</th>\n",
        "      <th>W_Station_distance</th>\n",
        "    </tr>\n",
        "  </thead>\n",
        "  <tbody>\n",
        "    <tr>\n",
        "      <th>0  </th>\n",
        "      <td>   5</td>\n",
        "      <td>        State St &amp; Harrison St</td>\n",
        "      <td> 41.873958</td>\n",
        "      <td>-87.627739</td>\n",
        "      <td> 19</td>\n",
        "      <td>  30</td>\n",
        "      <td>  6/28/2013</td>\n",
        "      <td>           CHICAGO 4.7 NE IL US</td>\n",
        "      <td> 1.451058</td>\n",
        "    </tr>\n",
        "    <tr>\n",
        "      <th>1  </th>\n",
        "      <td>  13</td>\n",
        "      <td>    Wilton Ave &amp; Diversey Pkwy</td>\n",
        "      <td> 41.932500</td>\n",
        "      <td>-87.652681</td>\n",
        "      <td> 19</td>\n",
        "      <td>  66</td>\n",
        "      <td>  6/28/2013</td>\n",
        "      <td>          CHICAGO 6.4 NNE IL US</td>\n",
        "      <td> 0.717977</td>\n",
        "    </tr>\n",
        "    <tr>\n",
        "      <th>2  </th>\n",
        "      <td>  14</td>\n",
        "      <td>           Morgan St &amp; 18th St</td>\n",
        "      <td> 41.858086</td>\n",
        "      <td>-87.651073</td>\n",
        "      <td> 15</td>\n",
        "      <td> 163</td>\n",
        "      <td>  6/28/2013</td>\n",
        "      <td> BOOT CAMP CHICAGO 4.2 SW IL US</td>\n",
        "      <td> 3.617821</td>\n",
        "    </tr>\n",
        "    <tr>\n",
        "      <th>3  </th>\n",
        "      <td>  15</td>\n",
        "      <td>          Racine Ave &amp; 18th St</td>\n",
        "      <td> 41.858181</td>\n",
        "      <td>-87.656487</td>\n",
        "      <td> 15</td>\n",
        "      <td> 164</td>\n",
        "      <td>  6/28/2013</td>\n",
        "      <td> BOOT CAMP CHICAGO 4.2 SW IL US</td>\n",
        "      <td> 3.240507</td>\n",
        "    </tr>\n",
        "    <tr>\n",
        "      <th>4  </th>\n",
        "      <td>  16</td>\n",
        "      <td>           Wood St &amp; North Ave</td>\n",
        "      <td> 41.910329</td>\n",
        "      <td>-87.672516</td>\n",
        "      <td> 15</td>\n",
        "      <td> 223</td>\n",
        "      <td>  8/12/2013</td>\n",
        "      <td>          CHICAGO 2.7 WNW IL US</td>\n",
        "      <td> 0.948705</td>\n",
        "    </tr>\n",
        "    <tr>\n",
        "      <th>5  </th>\n",
        "      <td>  17</td>\n",
        "      <td>         Wood St &amp; Division St</td>\n",
        "      <td> 41.903320</td>\n",
        "      <td>-87.672730</td>\n",
        "      <td> 15</td>\n",
        "      <td> 246</td>\n",
        "      <td>  6/28/2013</td>\n",
        "      <td>          CHICAGO 2.7 WNW IL US</td>\n",
        "      <td> 0.169412</td>\n",
        "    </tr>\n",
        "    <tr>\n",
        "      <th>6  </th>\n",
        "      <td>  19</td>\n",
        "      <td>         Loomis St &amp; Taylor St</td>\n",
        "      <td> 41.869417</td>\n",
        "      <td>-87.660996</td>\n",
        "      <td> 15</td>\n",
        "      <td> 139</td>\n",
        "      <td>  6/28/2013</td>\n",
        "      <td>          CHICAGO 2.7 WNW IL US</td>\n",
        "      <td> 3.727925</td>\n",
        "    </tr>\n",
        "    <tr>\n",
        "      <th>7  </th>\n",
        "      <td>  20</td>\n",
        "      <td>  Sheffield Ave &amp; Kingsbury St</td>\n",
        "      <td> 41.909592</td>\n",
        "      <td>-87.653497</td>\n",
        "      <td> 15</td>\n",
        "      <td> 154</td>\n",
        "      <td>  6/28/2013</td>\n",
        "      <td>          CHICAGO 2.7 WNW IL US</td>\n",
        "      <td> 1.803301</td>\n",
        "    </tr>\n",
        "    <tr>\n",
        "      <th>8  </th>\n",
        "      <td>  21</td>\n",
        "      <td>    Aberdeen St &amp; Jackson Blvd</td>\n",
        "      <td> 41.877726</td>\n",
        "      <td>-87.654787</td>\n",
        "      <td> 15</td>\n",
        "      <td> 157</td>\n",
        "      <td>  6/28/2013</td>\n",
        "      <td>           CHICAGO 4.7 NE IL US</td>\n",
        "      <td> 2.945506</td>\n",
        "    </tr>\n",
        "    <tr>\n",
        "      <th>9  </th>\n",
        "      <td>  22</td>\n",
        "      <td>            May St &amp; Taylor St</td>\n",
        "      <td> 41.869482</td>\n",
        "      <td>-87.655486</td>\n",
        "      <td> 15</td>\n",
        "      <td> 160</td>\n",
        "      <td>  6/28/2013</td>\n",
        "      <td>           CHICAGO 4.7 NE IL US</td>\n",
        "      <td> 3.396025</td>\n",
        "    </tr>\n",
        "    <tr>\n",
        "      <th>10 </th>\n",
        "      <td>  23</td>\n",
        "      <td>           Orleans St &amp; Elm St</td>\n",
        "      <td> 41.902924</td>\n",
        "      <td>-87.637715</td>\n",
        "      <td> 15</td>\n",
        "      <td> 172</td>\n",
        "      <td>  6/28/2013</td>\n",
        "      <td>           CHICAGO 4.7 NE IL US</td>\n",
        "      <td> 2.336439</td>\n",
        "    </tr>\n",
        "    <tr>\n",
        "      <th>11 </th>\n",
        "      <td>  24</td>\n",
        "      <td>      Fairbanks Ct &amp; Grand Ave</td>\n",
        "      <td> 41.891860</td>\n",
        "      <td>-87.620620</td>\n",
        "      <td> 15</td>\n",
        "      <td> 262</td>\n",
        "      <td>  6/28/2013</td>\n",
        "      <td>           CHICAGO 4.7 NE IL US</td>\n",
        "      <td> 0.652566</td>\n",
        "    </tr>\n",
        "    <tr>\n",
        "      <th>12 </th>\n",
        "      <td>  25</td>\n",
        "      <td>     Michigan Ave &amp; Pearson St</td>\n",
        "      <td> 41.897660</td>\n",
        "      <td>-87.623510</td>\n",
        "      <td> 23</td>\n",
        "      <td>  34</td>\n",
        "      <td>  6/28/2013</td>\n",
        "      <td>           CHICAGO 4.7 NE IL US</td>\n",
        "      <td> 1.313486</td>\n",
        "    </tr>\n",
        "    <tr>\n",
        "      <th>13 </th>\n",
        "      <td>  26</td>\n",
        "      <td>      McClurg Ct &amp; Illinois St</td>\n",
        "      <td> 41.891020</td>\n",
        "      <td>-87.617300</td>\n",
        "      <td> 23</td>\n",
        "      <td>  51</td>\n",
        "      <td>  6/28/2013</td>\n",
        "      <td>           CHICAGO 4.7 NE IL US</td>\n",
        "      <td> 0.636905</td>\n",
        "    </tr>\n",
        "    <tr>\n",
        "      <th>14 </th>\n",
        "      <td>  27</td>\n",
        "      <td>       Larrabee St &amp; North Ave</td>\n",
        "      <td> 41.910210</td>\n",
        "      <td>-87.643500</td>\n",
        "      <td> 19</td>\n",
        "      <td> 174</td>\n",
        "      <td>  6/28/2013</td>\n",
        "      <td>          CHICAGO 6.4 NNE IL US</td>\n",
        "      <td> 2.104377</td>\n",
        "    </tr>\n",
        "    <tr>\n",
        "      <th>15 </th>\n",
        "      <td>  28</td>\n",
        "      <td>    Larrabee St &amp; Menomonee St</td>\n",
        "      <td> 41.914680</td>\n",
        "      <td>-87.643320</td>\n",
        "      <td> 15</td>\n",
        "      <td> 282</td>\n",
        "      <td>  6/28/2013</td>\n",
        "      <td>          CHICAGO 6.4 NNE IL US</td>\n",
        "      <td> 1.701244</td>\n",
        "    </tr>\n",
        "    <tr>\n",
        "      <th>16 </th>\n",
        "      <td>  29</td>\n",
        "      <td>      Noble St &amp; Milwaukee Ave</td>\n",
        "      <td> 41.900680</td>\n",
        "      <td>-87.662600</td>\n",
        "      <td> 15</td>\n",
        "      <td> 290</td>\n",
        "      <td>  6/28/2013</td>\n",
        "      <td>          CHICAGO 2.7 WNW IL US</td>\n",
        "      <td> 0.837201</td>\n",
        "    </tr>\n",
        "    <tr>\n",
        "      <th>17 </th>\n",
        "      <td>  30</td>\n",
        "      <td>    Ashland Ave &amp; Augusta Blvd</td>\n",
        "      <td> 41.899643</td>\n",
        "      <td>-87.667700</td>\n",
        "      <td> 15</td>\n",
        "      <td> 248</td>\n",
        "      <td>  6/28/2013</td>\n",
        "      <td>          CHICAGO 2.7 WNW IL US</td>\n",
        "      <td> 0.471303</td>\n",
        "    </tr>\n",
        "    <tr>\n",
        "      <th>18 </th>\n",
        "      <td>  31</td>\n",
        "      <td>     Franklin St &amp; Chicago Ave</td>\n",
        "      <td> 41.896802</td>\n",
        "      <td>-87.635638</td>\n",
        "      <td> 23</td>\n",
        "      <td>  17</td>\n",
        "      <td>  6/28/2013</td>\n",
        "      <td>           CHICAGO 4.7 NE IL US</td>\n",
        "      <td> 1.706675</td>\n",
        "    </tr>\n",
        "    <tr>\n",
        "      <th>19 </th>\n",
        "      <td>  32</td>\n",
        "      <td>    Racine Ave &amp; Congress Pkwy</td>\n",
        "      <td> 41.874640</td>\n",
        "      <td>-87.657030</td>\n",
        "      <td> 19</td>\n",
        "      <td>  76</td>\n",
        "      <td>  6/28/2013</td>\n",
        "      <td>           CHICAGO 4.7 NE IL US</td>\n",
        "      <td> 3.240348</td>\n",
        "    </tr>\n",
        "    <tr>\n",
        "      <th>20 </th>\n",
        "      <td>  33</td>\n",
        "      <td>       State St &amp; Van Buren St</td>\n",
        "      <td> 41.877181</td>\n",
        "      <td>-87.627844</td>\n",
        "      <td> 27</td>\n",
        "      <td>   3</td>\n",
        "      <td>  6/28/2013</td>\n",
        "      <td>           CHICAGO 4.7 NE IL US</td>\n",
        "      <td> 1.132903</td>\n",
        "    </tr>\n",
        "    <tr>\n",
        "      <th>21 </th>\n",
        "      <td>  34</td>\n",
        "      <td>     Cannon Dr &amp; Fullerton Ave</td>\n",
        "      <td> 41.926756</td>\n",
        "      <td>-87.634429</td>\n",
        "      <td> 15</td>\n",
        "      <td> 124</td>\n",
        "      <td>  6/28/2013</td>\n",
        "      <td>          CHICAGO 6.4 NNE IL US</td>\n",
        "      <td> 1.801762</td>\n",
        "    </tr>\n",
        "    <tr>\n",
        "      <th>22 </th>\n",
        "      <td>  35</td>\n",
        "      <td>     Streeter Dr &amp; Illinois St</td>\n",
        "      <td> 41.891071</td>\n",
        "      <td>-87.612200</td>\n",
        "      <td> 35</td>\n",
        "      <td>  22</td>\n",
        "      <td>   8/5/2013</td>\n",
        "      <td>           CHICAGO 4.7 NE IL US</td>\n",
        "      <td> 0.921478</td>\n",
        "    </tr>\n",
        "    <tr>\n",
        "      <th>23 </th>\n",
        "      <td>  36</td>\n",
        "      <td>    Franklin St &amp; Jackson Blvd</td>\n",
        "      <td> 41.877708</td>\n",
        "      <td>-87.635321</td>\n",
        "      <td> 27</td>\n",
        "      <td>  19</td>\n",
        "      <td>  6/28/2013</td>\n",
        "      <td>           CHICAGO 4.7 NE IL US</td>\n",
        "      <td> 1.502406</td>\n",
        "    </tr>\n",
        "    <tr>\n",
        "      <th>24 </th>\n",
        "      <td>  37</td>\n",
        "      <td>        Dearborn St &amp; Adams St</td>\n",
        "      <td> 41.879356</td>\n",
        "      <td>-87.629791</td>\n",
        "      <td> 19</td>\n",
        "      <td>  20</td>\n",
        "      <td>  6/28/2013</td>\n",
        "      <td>           CHICAGO 4.7 NE IL US</td>\n",
        "      <td> 1.037337</td>\n",
        "    </tr>\n",
        "    <tr>\n",
        "      <th>25 </th>\n",
        "      <td>  42</td>\n",
        "      <td>        Wabash Ave &amp; Cermak Rd</td>\n",
        "      <td> 41.853239</td>\n",
        "      <td>-87.625337</td>\n",
        "      <td> 15</td>\n",
        "      <td> 170</td>\n",
        "      <td>  6/28/2013</td>\n",
        "      <td>           CHICAGO 4.7 NE IL US</td>\n",
        "      <td> 3.661692</td>\n",
        "    </tr>\n",
        "    <tr>\n",
        "      <th>26 </th>\n",
        "      <td>  43</td>\n",
        "      <td>  Michigan Ave &amp; Washington St</td>\n",
        "      <td> 41.883893</td>\n",
        "      <td>-87.624649</td>\n",
        "      <td> 43</td>\n",
        "      <td>   1</td>\n",
        "      <td>  6/28/2013</td>\n",
        "      <td>           CHICAGO 4.7 NE IL US</td>\n",
        "      <td> 0.382428</td>\n",
        "    </tr>\n",
        "    <tr>\n",
        "      <th>27 </th>\n",
        "      <td>  44</td>\n",
        "      <td>        State St &amp; Randolph St</td>\n",
        "      <td> 41.884730</td>\n",
        "      <td>-87.627734</td>\n",
        "      <td> 27</td>\n",
        "      <td>   2</td>\n",
        "      <td>  6/28/2013</td>\n",
        "      <td>           CHICAGO 4.7 NE IL US</td>\n",
        "      <td> 0.575208</td>\n",
        "    </tr>\n",
        "    <tr>\n",
        "      <th>28 </th>\n",
        "      <td>  45</td>\n",
        "      <td>  Michigan Ave &amp; Congress Pkwy</td>\n",
        "      <td> 41.876066</td>\n",
        "      <td>-87.624433</td>\n",
        "      <td> 15</td>\n",
        "      <td>  40</td>\n",
        "      <td>  6/28/2013</td>\n",
        "      <td>           CHICAGO 4.7 NE IL US</td>\n",
        "      <td> 1.140996</td>\n",
        "    </tr>\n",
        "    <tr>\n",
        "      <th>29 </th>\n",
        "      <td>  46</td>\n",
        "      <td>          Wells St &amp; Walton St</td>\n",
        "      <td> 41.899930</td>\n",
        "      <td>-87.634430</td>\n",
        "      <td> 19</td>\n",
        "      <td>  46</td>\n",
        "      <td>  6/28/2013</td>\n",
        "      <td>           CHICAGO 4.7 NE IL US</td>\n",
        "      <td> 1.907163</td>\n",
        "    </tr>\n",
        "    <tr>\n",
        "      <th>...</th>\n",
        "      <td>...</td>\n",
        "      <td>...</td>\n",
        "      <td>...</td>\n",
        "      <td>...</td>\n",
        "      <td>...</td>\n",
        "      <td>...</td>\n",
        "      <td>...</td>\n",
        "      <td>...</td>\n",
        "      <td>...</td>\n",
        "    </tr>\n",
        "    <tr>\n",
        "      <th>270</th>\n",
        "      <td> 322</td>\n",
        "      <td>         Kimbark Ave &amp; 53rd St</td>\n",
        "      <td> 41.799568</td>\n",
        "      <td>-87.594747</td>\n",
        "      <td> 15</td>\n",
        "      <td> 397</td>\n",
        "      <td>  9/21/2013</td>\n",
        "      <td>          CHICAGO 5.5 ESE IL US</td>\n",
        "      <td> 0.393380</td>\n",
        "    </tr>\n",
        "    <tr>\n",
        "      <th>271</th>\n",
        "      <td> 323</td>\n",
        "      <td>    Sheridan Rd &amp; Lawrence Ave</td>\n",
        "      <td> 41.969517</td>\n",
        "      <td>-87.654691</td>\n",
        "      <td> 15</td>\n",
        "      <td> 384</td>\n",
        "      <td>  9/23/2013</td>\n",
        "      <td>          CHICAGO 4.8 NNW IL US</td>\n",
        "      <td> 2.406332</td>\n",
        "    </tr>\n",
        "    <tr>\n",
        "      <th>272</th>\n",
        "      <td> 324</td>\n",
        "      <td>  Stockton Dr &amp; Wrightwood Ave</td>\n",
        "      <td> 41.931320</td>\n",
        "      <td>-87.638742</td>\n",
        "      <td> 15</td>\n",
        "      <td> 276</td>\n",
        "      <td>  10/3/2013</td>\n",
        "      <td>          CHICAGO 6.4 NNE IL US</td>\n",
        "      <td> 1.537123</td>\n",
        "    </tr>\n",
        "    <tr>\n",
        "      <th>273</th>\n",
        "      <td> 325</td>\n",
        "      <td>       Clark St &amp; Winnemac Ave</td>\n",
        "      <td> 41.973385</td>\n",
        "      <td>-87.668365</td>\n",
        "      <td> 15</td>\n",
        "      <td> 392</td>\n",
        "      <td>  9/23/2013</td>\n",
        "      <td> RAVENSWOOD MANOR 0.1 ESE IL US</td>\n",
        "      <td> 2.609512</td>\n",
        "    </tr>\n",
        "    <tr>\n",
        "      <th>274</th>\n",
        "      <td> 326</td>\n",
        "      <td>         Clark St &amp; Leland Ave</td>\n",
        "      <td> 41.967096</td>\n",
        "      <td>-87.667429</td>\n",
        "      <td> 11</td>\n",
        "      <td> 239</td>\n",
        "      <td>  9/27/2013</td>\n",
        "      <td>          CHICAGO 4.8 NNW IL US</td>\n",
        "      <td> 2.230218</td>\n",
        "    </tr>\n",
        "    <tr>\n",
        "      <th>275</th>\n",
        "      <td> 327</td>\n",
        "      <td>   Sheffield Ave &amp; Webster Ave</td>\n",
        "      <td> 41.921687</td>\n",
        "      <td>-87.653714</td>\n",
        "      <td> 19</td>\n",
        "      <td> 188</td>\n",
        "      <td>  9/25/2013</td>\n",
        "      <td>          CHICAGO 6.4 NNE IL US</td>\n",
        "      <td> 0.583917</td>\n",
        "    </tr>\n",
        "    <tr>\n",
        "      <th>276</th>\n",
        "      <td> 328</td>\n",
        "      <td>           Ellis Ave &amp; 58th St</td>\n",
        "      <td> 41.788746</td>\n",
        "      <td>-87.601334</td>\n",
        "      <td> 15</td>\n",
        "      <td> 365</td>\n",
        "      <td>  9/25/2013</td>\n",
        "      <td>          CHICAGO 5.5 ESE IL US</td>\n",
        "      <td> 1.623232</td>\n",
        "    </tr>\n",
        "    <tr>\n",
        "      <th>277</th>\n",
        "      <td> 329</td>\n",
        "      <td> Lake Shore Dr &amp; Diversey Pkwy</td>\n",
        "      <td> 41.932684</td>\n",
        "      <td>-87.636250</td>\n",
        "      <td> 15</td>\n",
        "      <td> 347</td>\n",
        "      <td>  9/25/2013</td>\n",
        "      <td>          CHICAGO 6.4 NNE IL US</td>\n",
        "      <td> 1.784203</td>\n",
        "    </tr>\n",
        "    <tr>\n",
        "      <th>278</th>\n",
        "      <td> 330</td>\n",
        "      <td>      Lincoln Ave &amp; Addison St</td>\n",
        "      <td> 41.946176</td>\n",
        "      <td>-87.673308</td>\n",
        "      <td> 19</td>\n",
        "      <td>  77</td>\n",
        "      <td>  9/26/2013</td>\n",
        "      <td>          CHICAGO 4.8 NNW IL US</td>\n",
        "      <td> 1.219155</td>\n",
        "    </tr>\n",
        "    <tr>\n",
        "      <th>279</th>\n",
        "      <td> 331</td>\n",
        "      <td>     Halsted St &amp; Blackhawk St</td>\n",
        "      <td> 41.908540</td>\n",
        "      <td>-87.648568</td>\n",
        "      <td> 19</td>\n",
        "      <td> 176</td>\n",
        "      <td>  9/28/2013</td>\n",
        "      <td>          CHICAGO 6.4 NNE IL US</td>\n",
        "      <td> 2.105786</td>\n",
        "    </tr>\n",
        "    <tr>\n",
        "      <th>280</th>\n",
        "      <td> 332</td>\n",
        "      <td>    Halsted St &amp; Diversey Pkwy</td>\n",
        "      <td> 41.933341</td>\n",
        "      <td>-87.648747</td>\n",
        "      <td> 15</td>\n",
        "      <td> 208</td>\n",
        "      <td>  9/28/2013</td>\n",
        "      <td>          CHICAGO 6.4 NNE IL US</td>\n",
        "      <td> 0.970861</td>\n",
        "    </tr>\n",
        "    <tr>\n",
        "      <th>281</th>\n",
        "      <td> 333</td>\n",
        "      <td>    Ashland Ave &amp; Blackhawk St</td>\n",
        "      <td> 41.907066</td>\n",
        "      <td>-87.667252</td>\n",
        "      <td> 15</td>\n",
        "      <td> 224</td>\n",
        "      <td>  9/27/2013</td>\n",
        "      <td>          CHICAGO 2.7 WNW IL US</td>\n",
        "      <td> 0.734231</td>\n",
        "    </tr>\n",
        "    <tr>\n",
        "      <th>282</th>\n",
        "      <td> 334</td>\n",
        "      <td>   Lake Shore Dr &amp; Belmont Ave</td>\n",
        "      <td> 41.940775</td>\n",
        "      <td>-87.639192</td>\n",
        "      <td> 19</td>\n",
        "      <td> 233</td>\n",
        "      <td>  9/27/2013</td>\n",
        "      <td>          CHICAGO 4.8 NNW IL US</td>\n",
        "      <td> 1.815322</td>\n",
        "    </tr>\n",
        "    <tr>\n",
        "      <th>283</th>\n",
        "      <td> 335</td>\n",
        "      <td>         Calumet Ave &amp; 35th St</td>\n",
        "      <td> 41.831379</td>\n",
        "      <td>-87.618034</td>\n",
        "      <td> 15</td>\n",
        "      <td> 345</td>\n",
        "      <td> 10/17/2013</td>\n",
        "      <td>          CHICAGO 5.5 ESE IL US</td>\n",
        "      <td> 4.105447</td>\n",
        "    </tr>\n",
        "    <tr>\n",
        "      <th>284</th>\n",
        "      <td> 336</td>\n",
        "      <td>   Cottage Grove Ave &amp; 47th St</td>\n",
        "      <td> 41.809855</td>\n",
        "      <td>-87.606755</td>\n",
        "      <td> 15</td>\n",
        "      <td> 422</td>\n",
        "      <td> 10/17/2013</td>\n",
        "      <td>          CHICAGO 5.5 ESE IL US</td>\n",
        "      <td> 1.695818</td>\n",
        "    </tr>\n",
        "    <tr>\n",
        "      <th>285</th>\n",
        "      <td> 337</td>\n",
        "      <td>        Clark St &amp; Chicago Ave</td>\n",
        "      <td> 41.896544</td>\n",
        "      <td>-87.630931</td>\n",
        "      <td> 19</td>\n",
        "      <td> 303</td>\n",
        "      <td>  9/27/2013</td>\n",
        "      <td>           CHICAGO 4.7 NE IL US</td>\n",
        "      <td> 1.432358</td>\n",
        "    </tr>\n",
        "    <tr>\n",
        "      <th>286</th>\n",
        "      <td> 338</td>\n",
        "      <td>         Calumet Ave &amp; 18th St</td>\n",
        "      <td> 41.857611</td>\n",
        "      <td>-87.619407</td>\n",
        "      <td> 15</td>\n",
        "      <td> 102</td>\n",
        "      <td>  9/28/2013</td>\n",
        "      <td>           CHICAGO 4.7 NE IL US</td>\n",
        "      <td> 3.160459</td>\n",
        "    </tr>\n",
        "    <tr>\n",
        "      <th>287</th>\n",
        "      <td> 339</td>\n",
        "      <td>         Emerald Ave &amp; 31st St</td>\n",
        "      <td> 41.838198</td>\n",
        "      <td>-87.645143</td>\n",
        "      <td> 11</td>\n",
        "      <td> 404</td>\n",
        "      <td>  9/28/2013</td>\n",
        "      <td> BOOT CAMP CHICAGO 4.2 SW IL US</td>\n",
        "      <td> 3.668359</td>\n",
        "    </tr>\n",
        "    <tr>\n",
        "      <th>288</th>\n",
        "      <td> 340</td>\n",
        "      <td>     Clark St &amp; Wrightwood Ave</td>\n",
        "      <td> 41.929546</td>\n",
        "      <td>-87.643118</td>\n",
        "      <td> 15</td>\n",
        "      <td> 209</td>\n",
        "      <td> 10/24/2013</td>\n",
        "      <td>          CHICAGO 6.4 NNE IL US</td>\n",
        "      <td> 1.131084</td>\n",
        "    </tr>\n",
        "    <tr>\n",
        "      <th>289</th>\n",
        "      <td> 341</td>\n",
        "      <td>             Adler Planetarium</td>\n",
        "      <td> 41.866095</td>\n",
        "      <td>-87.607267</td>\n",
        "      <td> 19</td>\n",
        "      <td> 431</td>\n",
        "      <td>  10/9/2013</td>\n",
        "      <td>           CHICAGO 4.7 NE IL US</td>\n",
        "      <td> 2.489087</td>\n",
        "    </tr>\n",
        "    <tr>\n",
        "      <th>290</th>\n",
        "      <td> 342</td>\n",
        "      <td>         Wolcott Ave &amp; Polk St</td>\n",
        "      <td> 41.871262</td>\n",
        "      <td>-87.673688</td>\n",
        "      <td> 15</td>\n",
        "      <td> 284</td>\n",
        "      <td> 10/12/2013</td>\n",
        "      <td>          CHICAGO 2.7 WNW IL US</td>\n",
        "      <td> 3.397931</td>\n",
        "    </tr>\n",
        "    <tr>\n",
        "      <th>291</th>\n",
        "      <td> 343</td>\n",
        "      <td>   Racine Ave &amp; Wrightwood Ave</td>\n",
        "      <td> 41.928887</td>\n",
        "      <td>-87.658971</td>\n",
        "      <td> 15</td>\n",
        "      <td> 297</td>\n",
        "      <td> 10/24/2013</td>\n",
        "      <td>          CHICAGO 6.4 NNE IL US</td>\n",
        "      <td> 0.342482</td>\n",
        "    </tr>\n",
        "    <tr>\n",
        "      <th>292</th>\n",
        "      <td> 344</td>\n",
        "      <td>    Wolcott Ave &amp; Lawrence Ave</td>\n",
        "      <td> 41.968641</td>\n",
        "      <td>-87.676335</td>\n",
        "      <td> 15</td>\n",
        "      <td>  26</td>\n",
        "      <td>  10/9/2013</td>\n",
        "      <td> RAVENSWOOD MANOR 0.1 ESE IL US</td>\n",
        "      <td> 1.810826</td>\n",
        "    </tr>\n",
        "    <tr>\n",
        "      <th>293</th>\n",
        "      <td> 345</td>\n",
        "      <td>       Lake Park Ave &amp; 56th St</td>\n",
        "      <td> 41.793242</td>\n",
        "      <td>-87.587782</td>\n",
        "      <td> 15</td>\n",
        "      <td> 119</td>\n",
        "      <td>  10/9/2013</td>\n",
        "      <td>          CHICAGO 5.5 ESE IL US</td>\n",
        "      <td> 0.866217</td>\n",
        "    </tr>\n",
        "    <tr>\n",
        "      <th>294</th>\n",
        "      <td> 346</td>\n",
        "      <td>      Ada St &amp; Washington Blvd</td>\n",
        "      <td> 41.882830</td>\n",
        "      <td>-87.661206</td>\n",
        "      <td> 15</td>\n",
        "      <td> 353</td>\n",
        "      <td> 10/10/2013</td>\n",
        "      <td>          CHICAGO 2.7 WNW IL US</td>\n",
        "      <td> 2.311334</td>\n",
        "    </tr>\n",
        "    <tr>\n",
        "      <th>295</th>\n",
        "      <td> 347</td>\n",
        "      <td>        Ashland Ave &amp; Grace St</td>\n",
        "      <td> 41.950687</td>\n",
        "      <td>-87.668700</td>\n",
        "      <td> 15</td>\n",
        "      <td> 319</td>\n",
        "      <td> 10/12/2013</td>\n",
        "      <td>          CHICAGO 4.8 NNW IL US</td>\n",
        "      <td> 0.868064</td>\n",
        "    </tr>\n",
        "    <tr>\n",
        "      <th>296</th>\n",
        "      <td> 348</td>\n",
        "      <td>      California Ave &amp; 21st St</td>\n",
        "      <td> 41.854016</td>\n",
        "      <td>-87.695445</td>\n",
        "      <td> 15</td>\n",
        "      <td>  96</td>\n",
        "      <td> 10/14/2013</td>\n",
        "      <td> BOOT CAMP CHICAGO 4.2 SW IL US</td>\n",
        "      <td> 1.425873</td>\n",
        "    </tr>\n",
        "    <tr>\n",
        "      <th>297</th>\n",
        "      <td> 349</td>\n",
        "      <td>   Halsted St &amp; Wrightwood Ave</td>\n",
        "      <td> 41.929143</td>\n",
        "      <td>-87.649077</td>\n",
        "      <td> 15</td>\n",
        "      <td> 210</td>\n",
        "      <td> 10/28/2013</td>\n",
        "      <td>          CHICAGO 6.4 NNE IL US</td>\n",
        "      <td> 0.653807</td>\n",
        "    </tr>\n",
        "    <tr>\n",
        "      <th>298</th>\n",
        "      <td> 350</td>\n",
        "      <td>     Ashland Ave &amp; Chicago Ave</td>\n",
        "      <td> 41.895966</td>\n",
        "      <td>-87.667747</td>\n",
        "      <td> 15</td>\n",
        "      <td> 247</td>\n",
        "      <td> 10/22/2013</td>\n",
        "      <td>          CHICAGO 2.7 WNW IL US</td>\n",
        "      <td> 0.763231</td>\n",
        "    </tr>\n",
        "    <tr>\n",
        "      <th>299</th>\n",
        "      <td> 351</td>\n",
        "      <td>   Cottage Grove Ave &amp; 51st St</td>\n",
        "      <td> 41.803038</td>\n",
        "      <td>-87.606615</td>\n",
        "      <td> 15</td>\n",
        "      <td> 440</td>\n",
        "      <td> 10/17/2013</td>\n",
        "      <td>          CHICAGO 5.5 ESE IL US</td>\n",
        "      <td> 1.375499</td>\n",
        "    </tr>\n",
        "  </tbody>\n",
        "</table>\n",
        "<p>300 rows \u00d7 9 columns</p>\n",
        "</div>"
       ],
       "metadata": {},
       "output_type": "pyout",
       "prompt_number": 17,
       "text": [
        "      id                           name   latitude  longitude  dpcapacity  \\\n",
        "0      5         State St & Harrison St  41.873958 -87.627739          19   \n",
        "1     13     Wilton Ave & Diversey Pkwy  41.932500 -87.652681          19   \n",
        "2     14            Morgan St & 18th St  41.858086 -87.651073          15   \n",
        "3     15           Racine Ave & 18th St  41.858181 -87.656487          15   \n",
        "4     16            Wood St & North Ave  41.910329 -87.672516          15   \n",
        "5     17          Wood St & Division St  41.903320 -87.672730          15   \n",
        "6     19          Loomis St & Taylor St  41.869417 -87.660996          15   \n",
        "7     20   Sheffield Ave & Kingsbury St  41.909592 -87.653497          15   \n",
        "8     21     Aberdeen St & Jackson Blvd  41.877726 -87.654787          15   \n",
        "9     22             May St & Taylor St  41.869482 -87.655486          15   \n",
        "10    23            Orleans St & Elm St  41.902924 -87.637715          15   \n",
        "11    24       Fairbanks Ct & Grand Ave  41.891860 -87.620620          15   \n",
        "12    25      Michigan Ave & Pearson St  41.897660 -87.623510          23   \n",
        "13    26       McClurg Ct & Illinois St  41.891020 -87.617300          23   \n",
        "14    27        Larrabee St & North Ave  41.910210 -87.643500          19   \n",
        "15    28     Larrabee St & Menomonee St  41.914680 -87.643320          15   \n",
        "16    29       Noble St & Milwaukee Ave  41.900680 -87.662600          15   \n",
        "17    30     Ashland Ave & Augusta Blvd  41.899643 -87.667700          15   \n",
        "18    31      Franklin St & Chicago Ave  41.896802 -87.635638          23   \n",
        "19    32     Racine Ave & Congress Pkwy  41.874640 -87.657030          19   \n",
        "20    33        State St & Van Buren St  41.877181 -87.627844          27   \n",
        "21    34      Cannon Dr & Fullerton Ave  41.926756 -87.634429          15   \n",
        "22    35      Streeter Dr & Illinois St  41.891071 -87.612200          35   \n",
        "23    36     Franklin St & Jackson Blvd  41.877708 -87.635321          27   \n",
        "24    37         Dearborn St & Adams St  41.879356 -87.629791          19   \n",
        "25    42         Wabash Ave & Cermak Rd  41.853239 -87.625337          15   \n",
        "26    43   Michigan Ave & Washington St  41.883893 -87.624649          43   \n",
        "27    44         State St & Randolph St  41.884730 -87.627734          27   \n",
        "28    45   Michigan Ave & Congress Pkwy  41.876066 -87.624433          15   \n",
        "29    46           Wells St & Walton St  41.899930 -87.634430          19   \n",
        "..   ...                            ...        ...        ...         ...   \n",
        "270  322          Kimbark Ave & 53rd St  41.799568 -87.594747          15   \n",
        "271  323     Sheridan Rd & Lawrence Ave  41.969517 -87.654691          15   \n",
        "272  324   Stockton Dr & Wrightwood Ave  41.931320 -87.638742          15   \n",
        "273  325        Clark St & Winnemac Ave  41.973385 -87.668365          15   \n",
        "274  326          Clark St & Leland Ave  41.967096 -87.667429          11   \n",
        "275  327    Sheffield Ave & Webster Ave  41.921687 -87.653714          19   \n",
        "276  328            Ellis Ave & 58th St  41.788746 -87.601334          15   \n",
        "277  329  Lake Shore Dr & Diversey Pkwy  41.932684 -87.636250          15   \n",
        "278  330       Lincoln Ave & Addison St  41.946176 -87.673308          19   \n",
        "279  331      Halsted St & Blackhawk St  41.908540 -87.648568          19   \n",
        "280  332     Halsted St & Diversey Pkwy  41.933341 -87.648747          15   \n",
        "281  333     Ashland Ave & Blackhawk St  41.907066 -87.667252          15   \n",
        "282  334    Lake Shore Dr & Belmont Ave  41.940775 -87.639192          19   \n",
        "283  335          Calumet Ave & 35th St  41.831379 -87.618034          15   \n",
        "284  336    Cottage Grove Ave & 47th St  41.809855 -87.606755          15   \n",
        "285  337         Clark St & Chicago Ave  41.896544 -87.630931          19   \n",
        "286  338          Calumet Ave & 18th St  41.857611 -87.619407          15   \n",
        "287  339          Emerald Ave & 31st St  41.838198 -87.645143          11   \n",
        "288  340      Clark St & Wrightwood Ave  41.929546 -87.643118          15   \n",
        "289  341              Adler Planetarium  41.866095 -87.607267          19   \n",
        "290  342          Wolcott Ave & Polk St  41.871262 -87.673688          15   \n",
        "291  343    Racine Ave & Wrightwood Ave  41.928887 -87.658971          15   \n",
        "292  344     Wolcott Ave & Lawrence Ave  41.968641 -87.676335          15   \n",
        "293  345        Lake Park Ave & 56th St  41.793242 -87.587782          15   \n",
        "294  346       Ada St & Washington Blvd  41.882830 -87.661206          15   \n",
        "295  347         Ashland Ave & Grace St  41.950687 -87.668700          15   \n",
        "296  348       California Ave & 21st St  41.854016 -87.695445          15   \n",
        "297  349    Halsted St & Wrightwood Ave  41.929143 -87.649077          15   \n",
        "298  350      Ashland Ave & Chicago Ave  41.895966 -87.667747          15   \n",
        "299  351    Cottage Grove Ave & 51st St  41.803038 -87.606615          15   \n",
        "\n",
        "     landmark online date                 Weather_Station  W_Station_distance  \n",
        "0          30   6/28/2013            CHICAGO 4.7 NE IL US            1.451058  \n",
        "1          66   6/28/2013           CHICAGO 6.4 NNE IL US            0.717977  \n",
        "2         163   6/28/2013  BOOT CAMP CHICAGO 4.2 SW IL US            3.617821  \n",
        "3         164   6/28/2013  BOOT CAMP CHICAGO 4.2 SW IL US            3.240507  \n",
        "4         223   8/12/2013           CHICAGO 2.7 WNW IL US            0.948705  \n",
        "5         246   6/28/2013           CHICAGO 2.7 WNW IL US            0.169412  \n",
        "6         139   6/28/2013           CHICAGO 2.7 WNW IL US            3.727925  \n",
        "7         154   6/28/2013           CHICAGO 2.7 WNW IL US            1.803301  \n",
        "8         157   6/28/2013            CHICAGO 4.7 NE IL US            2.945506  \n",
        "9         160   6/28/2013            CHICAGO 4.7 NE IL US            3.396025  \n",
        "10        172   6/28/2013            CHICAGO 4.7 NE IL US            2.336439  \n",
        "11        262   6/28/2013            CHICAGO 4.7 NE IL US            0.652566  \n",
        "12         34   6/28/2013            CHICAGO 4.7 NE IL US            1.313486  \n",
        "13         51   6/28/2013            CHICAGO 4.7 NE IL US            0.636905  \n",
        "14        174   6/28/2013           CHICAGO 6.4 NNE IL US            2.104377  \n",
        "15        282   6/28/2013           CHICAGO 6.4 NNE IL US            1.701244  \n",
        "16        290   6/28/2013           CHICAGO 2.7 WNW IL US            0.837201  \n",
        "17        248   6/28/2013           CHICAGO 2.7 WNW IL US            0.471303  \n",
        "18         17   6/28/2013            CHICAGO 4.7 NE IL US            1.706675  \n",
        "19         76   6/28/2013            CHICAGO 4.7 NE IL US            3.240348  \n",
        "20          3   6/28/2013            CHICAGO 4.7 NE IL US            1.132903  \n",
        "21        124   6/28/2013           CHICAGO 6.4 NNE IL US            1.801762  \n",
        "22         22    8/5/2013            CHICAGO 4.7 NE IL US            0.921478  \n",
        "23         19   6/28/2013            CHICAGO 4.7 NE IL US            1.502406  \n",
        "24         20   6/28/2013            CHICAGO 4.7 NE IL US            1.037337  \n",
        "25        170   6/28/2013            CHICAGO 4.7 NE IL US            3.661692  \n",
        "26          1   6/28/2013            CHICAGO 4.7 NE IL US            0.382428  \n",
        "27          2   6/28/2013            CHICAGO 4.7 NE IL US            0.575208  \n",
        "28         40   6/28/2013            CHICAGO 4.7 NE IL US            1.140996  \n",
        "29         46   6/28/2013            CHICAGO 4.7 NE IL US            1.907163  \n",
        "..        ...         ...                             ...                 ...  \n",
        "270       397   9/21/2013           CHICAGO 5.5 ESE IL US            0.393380  \n",
        "271       384   9/23/2013           CHICAGO 4.8 NNW IL US            2.406332  \n",
        "272       276   10/3/2013           CHICAGO 6.4 NNE IL US            1.537123  \n",
        "273       392   9/23/2013  RAVENSWOOD MANOR 0.1 ESE IL US            2.609512  \n",
        "274       239   9/27/2013           CHICAGO 4.8 NNW IL US            2.230218  \n",
        "275       188   9/25/2013           CHICAGO 6.4 NNE IL US            0.583917  \n",
        "276       365   9/25/2013           CHICAGO 5.5 ESE IL US            1.623232  \n",
        "277       347   9/25/2013           CHICAGO 6.4 NNE IL US            1.784203  \n",
        "278        77   9/26/2013           CHICAGO 4.8 NNW IL US            1.219155  \n",
        "279       176   9/28/2013           CHICAGO 6.4 NNE IL US            2.105786  \n",
        "280       208   9/28/2013           CHICAGO 6.4 NNE IL US            0.970861  \n",
        "281       224   9/27/2013           CHICAGO 2.7 WNW IL US            0.734231  \n",
        "282       233   9/27/2013           CHICAGO 4.8 NNW IL US            1.815322  \n",
        "283       345  10/17/2013           CHICAGO 5.5 ESE IL US            4.105447  \n",
        "284       422  10/17/2013           CHICAGO 5.5 ESE IL US            1.695818  \n",
        "285       303   9/27/2013            CHICAGO 4.7 NE IL US            1.432358  \n",
        "286       102   9/28/2013            CHICAGO 4.7 NE IL US            3.160459  \n",
        "287       404   9/28/2013  BOOT CAMP CHICAGO 4.2 SW IL US            3.668359  \n",
        "288       209  10/24/2013           CHICAGO 6.4 NNE IL US            1.131084  \n",
        "289       431   10/9/2013            CHICAGO 4.7 NE IL US            2.489087  \n",
        "290       284  10/12/2013           CHICAGO 2.7 WNW IL US            3.397931  \n",
        "291       297  10/24/2013           CHICAGO 6.4 NNE IL US            0.342482  \n",
        "292        26   10/9/2013  RAVENSWOOD MANOR 0.1 ESE IL US            1.810826  \n",
        "293       119   10/9/2013           CHICAGO 5.5 ESE IL US            0.866217  \n",
        "294       353  10/10/2013           CHICAGO 2.7 WNW IL US            2.311334  \n",
        "295       319  10/12/2013           CHICAGO 4.8 NNW IL US            0.868064  \n",
        "296        96  10/14/2013  BOOT CAMP CHICAGO 4.2 SW IL US            1.425873  \n",
        "297       210  10/28/2013           CHICAGO 6.4 NNE IL US            0.653807  \n",
        "298       247  10/22/2013           CHICAGO 2.7 WNW IL US            0.763231  \n",
        "299       440  10/17/2013           CHICAGO 5.5 ESE IL US            1.375499  \n",
        "\n",
        "[300 rows x 9 columns]"
       ]
      }
     ],
     "prompt_number": 17
    },
    {
     "cell_type": "code",
     "collapsed": true,
     "input": [
      "#stations = np.empty(300,dtype='|S128')\n",
      "#vals = np.empty(300,dtype='float')\n",
      "dict_list = {}\n",
      "g = df_2['STATION_NAME'].unique()\n",
      "for j,i in enumerate(dfB.iterrows()):\n",
      "    print j\n",
      "    bs = i[1]\n",
      "    dists = dict()\n",
      "    for s in g:\n",
      "        lat1 = bs['latitude']\n",
      "        lon1 = bs['longitude']\n",
      "        lat2 = float(df_2[df_2['STATION_NAME'] == s]['LATITUDE'].unique()[0])\n",
      "        lon2 = float(df_2[df_2['STATION_NAME'] == s]['LONGITUDE'].unique()[0])\n",
      "        dists[s] = calc_distance(lat1,lon1,lat2,lon2)\n",
      "    #stations[j] = min(dists, key=dists.get)\n",
      "    #vals[j] = min(dists.values())\n",
      "    dict_list[bs['name']] = dists\n",
      "    "
     ],
     "language": "python",
     "metadata": {},
     "outputs": [
      {
       "output_type": "stream",
       "stream": "stdout",
       "text": [
        "0\n",
        "1"
       ]
      },
      {
       "output_type": "stream",
       "stream": "stdout",
       "text": [
        "\n",
        "2"
       ]
      },
      {
       "output_type": "stream",
       "stream": "stdout",
       "text": [
        "\n",
        "3"
       ]
      },
      {
       "output_type": "stream",
       "stream": "stdout",
       "text": [
        "\n",
        "4"
       ]
      },
      {
       "output_type": "stream",
       "stream": "stdout",
       "text": [
        "\n",
        "5"
       ]
      },
      {
       "output_type": "stream",
       "stream": "stdout",
       "text": [
        "\n",
        "6"
       ]
      },
      {
       "output_type": "stream",
       "stream": "stdout",
       "text": [
        "\n",
        "7"
       ]
      },
      {
       "output_type": "stream",
       "stream": "stdout",
       "text": [
        "\n",
        "8"
       ]
      },
      {
       "output_type": "stream",
       "stream": "stdout",
       "text": [
        "\n",
        "9"
       ]
      },
      {
       "output_type": "stream",
       "stream": "stdout",
       "text": [
        "\n",
        "10"
       ]
      },
      {
       "output_type": "stream",
       "stream": "stdout",
       "text": [
        "\n",
        "11"
       ]
      },
      {
       "output_type": "stream",
       "stream": "stdout",
       "text": [
        "\n",
        "12"
       ]
      },
      {
       "output_type": "stream",
       "stream": "stdout",
       "text": [
        "\n",
        "13"
       ]
      },
      {
       "output_type": "stream",
       "stream": "stdout",
       "text": [
        "\n",
        "14"
       ]
      },
      {
       "output_type": "stream",
       "stream": "stdout",
       "text": [
        "\n",
        "15"
       ]
      },
      {
       "output_type": "stream",
       "stream": "stdout",
       "text": [
        "\n",
        "16"
       ]
      },
      {
       "output_type": "stream",
       "stream": "stdout",
       "text": [
        "\n",
        "17"
       ]
      },
      {
       "output_type": "stream",
       "stream": "stdout",
       "text": [
        "\n",
        "18"
       ]
      },
      {
       "output_type": "stream",
       "stream": "stdout",
       "text": [
        "\n",
        "19"
       ]
      },
      {
       "output_type": "stream",
       "stream": "stdout",
       "text": [
        "\n",
        "20"
       ]
      },
      {
       "output_type": "stream",
       "stream": "stdout",
       "text": [
        "\n",
        "21"
       ]
      },
      {
       "output_type": "stream",
       "stream": "stdout",
       "text": [
        "\n",
        "22"
       ]
      },
      {
       "output_type": "stream",
       "stream": "stdout",
       "text": [
        "\n",
        "23"
       ]
      },
      {
       "output_type": "stream",
       "stream": "stdout",
       "text": [
        "\n",
        "24"
       ]
      },
      {
       "output_type": "stream",
       "stream": "stdout",
       "text": [
        "\n",
        "25"
       ]
      },
      {
       "output_type": "stream",
       "stream": "stdout",
       "text": [
        "\n",
        "26"
       ]
      },
      {
       "output_type": "stream",
       "stream": "stdout",
       "text": [
        "\n",
        "27"
       ]
      },
      {
       "output_type": "stream",
       "stream": "stdout",
       "text": [
        "\n",
        "28"
       ]
      },
      {
       "output_type": "stream",
       "stream": "stdout",
       "text": [
        "\n",
        "29"
       ]
      },
      {
       "output_type": "stream",
       "stream": "stdout",
       "text": [
        "\n",
        "30"
       ]
      },
      {
       "output_type": "stream",
       "stream": "stdout",
       "text": [
        "\n",
        "31"
       ]
      },
      {
       "output_type": "stream",
       "stream": "stdout",
       "text": [
        "\n",
        "32"
       ]
      },
      {
       "output_type": "stream",
       "stream": "stdout",
       "text": [
        "\n",
        "33"
       ]
      },
      {
       "output_type": "stream",
       "stream": "stdout",
       "text": [
        "\n",
        "34"
       ]
      },
      {
       "output_type": "stream",
       "stream": "stdout",
       "text": [
        "\n",
        "35"
       ]
      },
      {
       "output_type": "stream",
       "stream": "stdout",
       "text": [
        "\n",
        "36"
       ]
      },
      {
       "output_type": "stream",
       "stream": "stdout",
       "text": [
        "\n",
        "37"
       ]
      },
      {
       "output_type": "stream",
       "stream": "stdout",
       "text": [
        "\n",
        "38"
       ]
      },
      {
       "output_type": "stream",
       "stream": "stdout",
       "text": [
        "\n",
        "39"
       ]
      },
      {
       "output_type": "stream",
       "stream": "stdout",
       "text": [
        "\n",
        "40"
       ]
      },
      {
       "output_type": "stream",
       "stream": "stdout",
       "text": [
        "\n",
        "41"
       ]
      },
      {
       "output_type": "stream",
       "stream": "stdout",
       "text": [
        "\n",
        "42"
       ]
      },
      {
       "output_type": "stream",
       "stream": "stdout",
       "text": [
        "\n",
        "43"
       ]
      },
      {
       "output_type": "stream",
       "stream": "stdout",
       "text": [
        "\n",
        "44"
       ]
      },
      {
       "output_type": "stream",
       "stream": "stdout",
       "text": [
        "\n",
        "45"
       ]
      },
      {
       "output_type": "stream",
       "stream": "stdout",
       "text": [
        "\n",
        "46"
       ]
      },
      {
       "output_type": "stream",
       "stream": "stdout",
       "text": [
        "\n",
        "47"
       ]
      },
      {
       "output_type": "stream",
       "stream": "stdout",
       "text": [
        "\n",
        "48"
       ]
      },
      {
       "output_type": "stream",
       "stream": "stdout",
       "text": [
        "\n",
        "49"
       ]
      },
      {
       "output_type": "stream",
       "stream": "stdout",
       "text": [
        "\n",
        "50"
       ]
      },
      {
       "output_type": "stream",
       "stream": "stdout",
       "text": [
        "\n",
        "51"
       ]
      },
      {
       "output_type": "stream",
       "stream": "stdout",
       "text": [
        "\n",
        "52"
       ]
      },
      {
       "output_type": "stream",
       "stream": "stdout",
       "text": [
        "\n",
        "53"
       ]
      },
      {
       "output_type": "stream",
       "stream": "stdout",
       "text": [
        "\n",
        "54"
       ]
      },
      {
       "output_type": "stream",
       "stream": "stdout",
       "text": [
        "\n",
        "55"
       ]
      },
      {
       "output_type": "stream",
       "stream": "stdout",
       "text": [
        "\n",
        "56"
       ]
      },
      {
       "output_type": "stream",
       "stream": "stdout",
       "text": [
        "\n",
        "57"
       ]
      },
      {
       "output_type": "stream",
       "stream": "stdout",
       "text": [
        "\n",
        "58"
       ]
      },
      {
       "output_type": "stream",
       "stream": "stdout",
       "text": [
        "\n",
        "59"
       ]
      },
      {
       "output_type": "stream",
       "stream": "stdout",
       "text": [
        "\n",
        "60"
       ]
      },
      {
       "output_type": "stream",
       "stream": "stdout",
       "text": [
        "\n",
        "61"
       ]
      },
      {
       "output_type": "stream",
       "stream": "stdout",
       "text": [
        "\n",
        "62"
       ]
      },
      {
       "output_type": "stream",
       "stream": "stdout",
       "text": [
        "\n",
        "63"
       ]
      },
      {
       "output_type": "stream",
       "stream": "stdout",
       "text": [
        "\n",
        "64"
       ]
      },
      {
       "output_type": "stream",
       "stream": "stdout",
       "text": [
        "\n",
        "65"
       ]
      },
      {
       "output_type": "stream",
       "stream": "stdout",
       "text": [
        "\n",
        "66"
       ]
      },
      {
       "output_type": "stream",
       "stream": "stdout",
       "text": [
        "\n",
        "67"
       ]
      },
      {
       "output_type": "stream",
       "stream": "stdout",
       "text": [
        "\n",
        "68"
       ]
      },
      {
       "output_type": "stream",
       "stream": "stdout",
       "text": [
        "\n",
        "69"
       ]
      },
      {
       "output_type": "stream",
       "stream": "stdout",
       "text": [
        "\n",
        "70"
       ]
      },
      {
       "output_type": "stream",
       "stream": "stdout",
       "text": [
        "\n",
        "71"
       ]
      },
      {
       "output_type": "stream",
       "stream": "stdout",
       "text": [
        "\n",
        "72"
       ]
      },
      {
       "output_type": "stream",
       "stream": "stdout",
       "text": [
        "\n",
        "73"
       ]
      },
      {
       "output_type": "stream",
       "stream": "stdout",
       "text": [
        "\n",
        "74"
       ]
      },
      {
       "output_type": "stream",
       "stream": "stdout",
       "text": [
        "\n",
        "75"
       ]
      },
      {
       "output_type": "stream",
       "stream": "stdout",
       "text": [
        "\n",
        "76"
       ]
      },
      {
       "output_type": "stream",
       "stream": "stdout",
       "text": [
        "\n",
        "77"
       ]
      },
      {
       "output_type": "stream",
       "stream": "stdout",
       "text": [
        "\n",
        "78"
       ]
      },
      {
       "output_type": "stream",
       "stream": "stdout",
       "text": [
        "\n",
        "79"
       ]
      },
      {
       "output_type": "stream",
       "stream": "stdout",
       "text": [
        "\n",
        "80"
       ]
      },
      {
       "output_type": "stream",
       "stream": "stdout",
       "text": [
        "\n",
        "81"
       ]
      },
      {
       "output_type": "stream",
       "stream": "stdout",
       "text": [
        "\n",
        "82"
       ]
      },
      {
       "output_type": "stream",
       "stream": "stdout",
       "text": [
        "\n",
        "83"
       ]
      },
      {
       "output_type": "stream",
       "stream": "stdout",
       "text": [
        "\n",
        "84"
       ]
      },
      {
       "output_type": "stream",
       "stream": "stdout",
       "text": [
        "\n",
        "85"
       ]
      },
      {
       "output_type": "stream",
       "stream": "stdout",
       "text": [
        "\n",
        "86"
       ]
      },
      {
       "output_type": "stream",
       "stream": "stdout",
       "text": [
        "\n",
        "87"
       ]
      },
      {
       "output_type": "stream",
       "stream": "stdout",
       "text": [
        "\n",
        "88"
       ]
      },
      {
       "output_type": "stream",
       "stream": "stdout",
       "text": [
        "\n",
        "89"
       ]
      },
      {
       "output_type": "stream",
       "stream": "stdout",
       "text": [
        "\n",
        "90"
       ]
      },
      {
       "output_type": "stream",
       "stream": "stdout",
       "text": [
        "\n",
        "91"
       ]
      },
      {
       "output_type": "stream",
       "stream": "stdout",
       "text": [
        "\n",
        "92"
       ]
      },
      {
       "output_type": "stream",
       "stream": "stdout",
       "text": [
        "\n",
        "93"
       ]
      },
      {
       "output_type": "stream",
       "stream": "stdout",
       "text": [
        "\n",
        "94"
       ]
      },
      {
       "output_type": "stream",
       "stream": "stdout",
       "text": [
        "\n",
        "95"
       ]
      },
      {
       "output_type": "stream",
       "stream": "stdout",
       "text": [
        "\n",
        "96"
       ]
      },
      {
       "output_type": "stream",
       "stream": "stdout",
       "text": [
        "\n",
        "97"
       ]
      },
      {
       "output_type": "stream",
       "stream": "stdout",
       "text": [
        "\n",
        "98"
       ]
      },
      {
       "output_type": "stream",
       "stream": "stdout",
       "text": [
        "\n",
        "99"
       ]
      },
      {
       "output_type": "stream",
       "stream": "stdout",
       "text": [
        "\n",
        "100"
       ]
      },
      {
       "output_type": "stream",
       "stream": "stdout",
       "text": [
        "\n",
        "101"
       ]
      },
      {
       "output_type": "stream",
       "stream": "stdout",
       "text": [
        "\n",
        "102"
       ]
      },
      {
       "output_type": "stream",
       "stream": "stdout",
       "text": [
        "\n",
        "103"
       ]
      },
      {
       "output_type": "stream",
       "stream": "stdout",
       "text": [
        "\n",
        "104"
       ]
      },
      {
       "output_type": "stream",
       "stream": "stdout",
       "text": [
        "\n",
        "105"
       ]
      },
      {
       "output_type": "stream",
       "stream": "stdout",
       "text": [
        "\n",
        "106"
       ]
      },
      {
       "output_type": "stream",
       "stream": "stdout",
       "text": [
        "\n",
        "107"
       ]
      },
      {
       "output_type": "stream",
       "stream": "stdout",
       "text": [
        "\n",
        "108"
       ]
      },
      {
       "output_type": "stream",
       "stream": "stdout",
       "text": [
        "\n",
        "109"
       ]
      },
      {
       "output_type": "stream",
       "stream": "stdout",
       "text": [
        "\n",
        "110"
       ]
      },
      {
       "output_type": "stream",
       "stream": "stdout",
       "text": [
        "\n",
        "111"
       ]
      },
      {
       "output_type": "stream",
       "stream": "stdout",
       "text": [
        "\n",
        "112"
       ]
      },
      {
       "output_type": "stream",
       "stream": "stdout",
       "text": [
        "\n",
        "113"
       ]
      },
      {
       "output_type": "stream",
       "stream": "stdout",
       "text": [
        "\n",
        "114"
       ]
      },
      {
       "output_type": "stream",
       "stream": "stdout",
       "text": [
        "\n",
        "115"
       ]
      },
      {
       "output_type": "stream",
       "stream": "stdout",
       "text": [
        "\n",
        "116"
       ]
      },
      {
       "output_type": "stream",
       "stream": "stdout",
       "text": [
        "\n",
        "117"
       ]
      },
      {
       "output_type": "stream",
       "stream": "stdout",
       "text": [
        "\n",
        "118"
       ]
      },
      {
       "output_type": "stream",
       "stream": "stdout",
       "text": [
        "\n",
        "119"
       ]
      },
      {
       "output_type": "stream",
       "stream": "stdout",
       "text": [
        "\n",
        "120"
       ]
      },
      {
       "output_type": "stream",
       "stream": "stdout",
       "text": [
        "\n",
        "121"
       ]
      },
      {
       "output_type": "stream",
       "stream": "stdout",
       "text": [
        "\n",
        "122"
       ]
      },
      {
       "output_type": "stream",
       "stream": "stdout",
       "text": [
        "\n",
        "123"
       ]
      },
      {
       "output_type": "stream",
       "stream": "stdout",
       "text": [
        "\n",
        "124"
       ]
      },
      {
       "output_type": "stream",
       "stream": "stdout",
       "text": [
        "\n",
        "125"
       ]
      },
      {
       "output_type": "stream",
       "stream": "stdout",
       "text": [
        "\n",
        "126"
       ]
      },
      {
       "output_type": "stream",
       "stream": "stdout",
       "text": [
        "\n",
        "127"
       ]
      },
      {
       "output_type": "stream",
       "stream": "stdout",
       "text": [
        "\n",
        "128"
       ]
      },
      {
       "output_type": "stream",
       "stream": "stdout",
       "text": [
        "\n",
        "129"
       ]
      },
      {
       "output_type": "stream",
       "stream": "stdout",
       "text": [
        "\n",
        "130"
       ]
      },
      {
       "output_type": "stream",
       "stream": "stdout",
       "text": [
        "\n",
        "131"
       ]
      },
      {
       "output_type": "stream",
       "stream": "stdout",
       "text": [
        "\n",
        "132"
       ]
      },
      {
       "output_type": "stream",
       "stream": "stdout",
       "text": [
        "\n",
        "133"
       ]
      },
      {
       "output_type": "stream",
       "stream": "stdout",
       "text": [
        "\n",
        "134"
       ]
      },
      {
       "output_type": "stream",
       "stream": "stdout",
       "text": [
        "\n",
        "135"
       ]
      },
      {
       "output_type": "stream",
       "stream": "stdout",
       "text": [
        "\n",
        "136"
       ]
      },
      {
       "output_type": "stream",
       "stream": "stdout",
       "text": [
        "\n",
        "137"
       ]
      },
      {
       "output_type": "stream",
       "stream": "stdout",
       "text": [
        "\n",
        "138"
       ]
      },
      {
       "output_type": "stream",
       "stream": "stdout",
       "text": [
        "\n",
        "139"
       ]
      },
      {
       "output_type": "stream",
       "stream": "stdout",
       "text": [
        "\n",
        "140"
       ]
      },
      {
       "output_type": "stream",
       "stream": "stdout",
       "text": [
        "\n",
        "141"
       ]
      },
      {
       "output_type": "stream",
       "stream": "stdout",
       "text": [
        "\n",
        "142"
       ]
      },
      {
       "output_type": "stream",
       "stream": "stdout",
       "text": [
        "\n",
        "143"
       ]
      },
      {
       "output_type": "stream",
       "stream": "stdout",
       "text": [
        "\n",
        "144"
       ]
      },
      {
       "output_type": "stream",
       "stream": "stdout",
       "text": [
        "\n",
        "145"
       ]
      },
      {
       "output_type": "stream",
       "stream": "stdout",
       "text": [
        "\n",
        "146"
       ]
      },
      {
       "output_type": "stream",
       "stream": "stdout",
       "text": [
        "\n",
        "147"
       ]
      },
      {
       "output_type": "stream",
       "stream": "stdout",
       "text": [
        "\n",
        "148"
       ]
      },
      {
       "output_type": "stream",
       "stream": "stdout",
       "text": [
        "\n",
        "149"
       ]
      },
      {
       "output_type": "stream",
       "stream": "stdout",
       "text": [
        "\n",
        "150"
       ]
      },
      {
       "output_type": "stream",
       "stream": "stdout",
       "text": [
        "\n",
        "151"
       ]
      },
      {
       "output_type": "stream",
       "stream": "stdout",
       "text": [
        "\n",
        "152"
       ]
      },
      {
       "output_type": "stream",
       "stream": "stdout",
       "text": [
        "\n",
        "153"
       ]
      },
      {
       "output_type": "stream",
       "stream": "stdout",
       "text": [
        "\n",
        "154"
       ]
      },
      {
       "output_type": "stream",
       "stream": "stdout",
       "text": [
        "\n",
        "155"
       ]
      },
      {
       "output_type": "stream",
       "stream": "stdout",
       "text": [
        "\n",
        "156"
       ]
      },
      {
       "output_type": "stream",
       "stream": "stdout",
       "text": [
        "\n",
        "157"
       ]
      },
      {
       "output_type": "stream",
       "stream": "stdout",
       "text": [
        "\n",
        "158"
       ]
      },
      {
       "output_type": "stream",
       "stream": "stdout",
       "text": [
        "\n",
        "159"
       ]
      },
      {
       "output_type": "stream",
       "stream": "stdout",
       "text": [
        "\n",
        "160"
       ]
      },
      {
       "output_type": "stream",
       "stream": "stdout",
       "text": [
        "\n",
        "161"
       ]
      },
      {
       "output_type": "stream",
       "stream": "stdout",
       "text": [
        "\n",
        "162"
       ]
      },
      {
       "output_type": "stream",
       "stream": "stdout",
       "text": [
        "\n",
        "163"
       ]
      },
      {
       "output_type": "stream",
       "stream": "stdout",
       "text": [
        "\n",
        "164"
       ]
      },
      {
       "output_type": "stream",
       "stream": "stdout",
       "text": [
        "\n",
        "165"
       ]
      },
      {
       "output_type": "stream",
       "stream": "stdout",
       "text": [
        "\n",
        "166"
       ]
      },
      {
       "output_type": "stream",
       "stream": "stdout",
       "text": [
        "\n",
        "167"
       ]
      },
      {
       "output_type": "stream",
       "stream": "stdout",
       "text": [
        "\n",
        "168"
       ]
      },
      {
       "output_type": "stream",
       "stream": "stdout",
       "text": [
        "\n",
        "169"
       ]
      },
      {
       "output_type": "stream",
       "stream": "stdout",
       "text": [
        "\n",
        "170"
       ]
      },
      {
       "output_type": "stream",
       "stream": "stdout",
       "text": [
        "\n",
        "171"
       ]
      },
      {
       "output_type": "stream",
       "stream": "stdout",
       "text": [
        "\n",
        "172"
       ]
      },
      {
       "output_type": "stream",
       "stream": "stdout",
       "text": [
        "\n",
        "173"
       ]
      },
      {
       "output_type": "stream",
       "stream": "stdout",
       "text": [
        "\n",
        "174"
       ]
      },
      {
       "output_type": "stream",
       "stream": "stdout",
       "text": [
        "\n",
        "175"
       ]
      },
      {
       "output_type": "stream",
       "stream": "stdout",
       "text": [
        "\n",
        "176"
       ]
      },
      {
       "output_type": "stream",
       "stream": "stdout",
       "text": [
        "\n",
        "177"
       ]
      },
      {
       "output_type": "stream",
       "stream": "stdout",
       "text": [
        "\n",
        "178"
       ]
      },
      {
       "output_type": "stream",
       "stream": "stdout",
       "text": [
        "\n",
        "179"
       ]
      },
      {
       "output_type": "stream",
       "stream": "stdout",
       "text": [
        "\n",
        "180"
       ]
      },
      {
       "output_type": "stream",
       "stream": "stdout",
       "text": [
        "\n",
        "181"
       ]
      },
      {
       "output_type": "stream",
       "stream": "stdout",
       "text": [
        "\n",
        "182"
       ]
      },
      {
       "output_type": "stream",
       "stream": "stdout",
       "text": [
        "\n",
        "183"
       ]
      },
      {
       "output_type": "stream",
       "stream": "stdout",
       "text": [
        "\n",
        "184"
       ]
      },
      {
       "output_type": "stream",
       "stream": "stdout",
       "text": [
        "\n",
        "185"
       ]
      },
      {
       "output_type": "stream",
       "stream": "stdout",
       "text": [
        "\n",
        "186"
       ]
      },
      {
       "output_type": "stream",
       "stream": "stdout",
       "text": [
        "\n",
        "187"
       ]
      },
      {
       "output_type": "stream",
       "stream": "stdout",
       "text": [
        "\n",
        "188"
       ]
      },
      {
       "output_type": "stream",
       "stream": "stdout",
       "text": [
        "\n",
        "189"
       ]
      },
      {
       "output_type": "stream",
       "stream": "stdout",
       "text": [
        "\n",
        "190"
       ]
      },
      {
       "output_type": "stream",
       "stream": "stdout",
       "text": [
        "\n",
        "191"
       ]
      },
      {
       "output_type": "stream",
       "stream": "stdout",
       "text": [
        "\n",
        "192"
       ]
      },
      {
       "output_type": "stream",
       "stream": "stdout",
       "text": [
        "\n",
        "193"
       ]
      },
      {
       "output_type": "stream",
       "stream": "stdout",
       "text": [
        "\n",
        "194"
       ]
      },
      {
       "output_type": "stream",
       "stream": "stdout",
       "text": [
        "\n",
        "195"
       ]
      },
      {
       "output_type": "stream",
       "stream": "stdout",
       "text": [
        "\n",
        "196"
       ]
      },
      {
       "output_type": "stream",
       "stream": "stdout",
       "text": [
        "\n",
        "197"
       ]
      },
      {
       "output_type": "stream",
       "stream": "stdout",
       "text": [
        "\n",
        "198"
       ]
      },
      {
       "output_type": "stream",
       "stream": "stdout",
       "text": [
        "\n",
        "199"
       ]
      },
      {
       "output_type": "stream",
       "stream": "stdout",
       "text": [
        "\n",
        "200"
       ]
      },
      {
       "output_type": "stream",
       "stream": "stdout",
       "text": [
        "\n",
        "201"
       ]
      },
      {
       "output_type": "stream",
       "stream": "stdout",
       "text": [
        "\n",
        "202"
       ]
      },
      {
       "output_type": "stream",
       "stream": "stdout",
       "text": [
        "\n",
        "203"
       ]
      },
      {
       "output_type": "stream",
       "stream": "stdout",
       "text": [
        "\n",
        "204"
       ]
      },
      {
       "output_type": "stream",
       "stream": "stdout",
       "text": [
        "\n",
        "205"
       ]
      },
      {
       "output_type": "stream",
       "stream": "stdout",
       "text": [
        "\n",
        "206"
       ]
      },
      {
       "output_type": "stream",
       "stream": "stdout",
       "text": [
        "\n",
        "207"
       ]
      },
      {
       "output_type": "stream",
       "stream": "stdout",
       "text": [
        "\n",
        "208"
       ]
      },
      {
       "output_type": "stream",
       "stream": "stdout",
       "text": [
        "\n",
        "209"
       ]
      },
      {
       "output_type": "stream",
       "stream": "stdout",
       "text": [
        "\n",
        "210"
       ]
      },
      {
       "output_type": "stream",
       "stream": "stdout",
       "text": [
        "\n",
        "211"
       ]
      },
      {
       "output_type": "stream",
       "stream": "stdout",
       "text": [
        "\n",
        "212"
       ]
      },
      {
       "output_type": "stream",
       "stream": "stdout",
       "text": [
        "\n",
        "213"
       ]
      },
      {
       "output_type": "stream",
       "stream": "stdout",
       "text": [
        "\n",
        "214"
       ]
      },
      {
       "output_type": "stream",
       "stream": "stdout",
       "text": [
        "\n",
        "215"
       ]
      },
      {
       "output_type": "stream",
       "stream": "stdout",
       "text": [
        "\n",
        "216"
       ]
      },
      {
       "output_type": "stream",
       "stream": "stdout",
       "text": [
        "\n",
        "217"
       ]
      },
      {
       "output_type": "stream",
       "stream": "stdout",
       "text": [
        "\n",
        "218"
       ]
      },
      {
       "output_type": "stream",
       "stream": "stdout",
       "text": [
        "\n",
        "219"
       ]
      },
      {
       "output_type": "stream",
       "stream": "stdout",
       "text": [
        "\n",
        "220"
       ]
      },
      {
       "output_type": "stream",
       "stream": "stdout",
       "text": [
        "\n",
        "221"
       ]
      },
      {
       "output_type": "stream",
       "stream": "stdout",
       "text": [
        "\n",
        "222"
       ]
      },
      {
       "output_type": "stream",
       "stream": "stdout",
       "text": [
        "\n",
        "223"
       ]
      },
      {
       "output_type": "stream",
       "stream": "stdout",
       "text": [
        "\n",
        "224"
       ]
      },
      {
       "output_type": "stream",
       "stream": "stdout",
       "text": [
        "\n",
        "225"
       ]
      },
      {
       "output_type": "stream",
       "stream": "stdout",
       "text": [
        "\n",
        "226"
       ]
      },
      {
       "output_type": "stream",
       "stream": "stdout",
       "text": [
        "\n",
        "227"
       ]
      },
      {
       "output_type": "stream",
       "stream": "stdout",
       "text": [
        "\n",
        "228"
       ]
      },
      {
       "output_type": "stream",
       "stream": "stdout",
       "text": [
        "\n",
        "229"
       ]
      },
      {
       "output_type": "stream",
       "stream": "stdout",
       "text": [
        "\n",
        "230"
       ]
      },
      {
       "output_type": "stream",
       "stream": "stdout",
       "text": [
        "\n",
        "231"
       ]
      },
      {
       "output_type": "stream",
       "stream": "stdout",
       "text": [
        "\n",
        "232"
       ]
      },
      {
       "output_type": "stream",
       "stream": "stdout",
       "text": [
        "\n",
        "233"
       ]
      },
      {
       "output_type": "stream",
       "stream": "stdout",
       "text": [
        "\n",
        "234"
       ]
      },
      {
       "output_type": "stream",
       "stream": "stdout",
       "text": [
        "\n",
        "235"
       ]
      },
      {
       "output_type": "stream",
       "stream": "stdout",
       "text": [
        "\n",
        "236"
       ]
      },
      {
       "output_type": "stream",
       "stream": "stdout",
       "text": [
        "\n",
        "237"
       ]
      },
      {
       "output_type": "stream",
       "stream": "stdout",
       "text": [
        "\n",
        "238"
       ]
      },
      {
       "output_type": "stream",
       "stream": "stdout",
       "text": [
        "\n",
        "239"
       ]
      },
      {
       "output_type": "stream",
       "stream": "stdout",
       "text": [
        "\n",
        "240"
       ]
      },
      {
       "output_type": "stream",
       "stream": "stdout",
       "text": [
        "\n",
        "241"
       ]
      },
      {
       "output_type": "stream",
       "stream": "stdout",
       "text": [
        "\n",
        "242"
       ]
      },
      {
       "output_type": "stream",
       "stream": "stdout",
       "text": [
        "\n",
        "243"
       ]
      },
      {
       "output_type": "stream",
       "stream": "stdout",
       "text": [
        "\n",
        "244"
       ]
      },
      {
       "output_type": "stream",
       "stream": "stdout",
       "text": [
        "\n",
        "245"
       ]
      },
      {
       "output_type": "stream",
       "stream": "stdout",
       "text": [
        "\n",
        "246"
       ]
      },
      {
       "output_type": "stream",
       "stream": "stdout",
       "text": [
        "\n",
        "247"
       ]
      },
      {
       "output_type": "stream",
       "stream": "stdout",
       "text": [
        "\n",
        "248"
       ]
      },
      {
       "output_type": "stream",
       "stream": "stdout",
       "text": [
        "\n",
        "249"
       ]
      },
      {
       "output_type": "stream",
       "stream": "stdout",
       "text": [
        "\n",
        "250"
       ]
      },
      {
       "output_type": "stream",
       "stream": "stdout",
       "text": [
        "\n",
        "251"
       ]
      },
      {
       "output_type": "stream",
       "stream": "stdout",
       "text": [
        "\n",
        "252"
       ]
      },
      {
       "output_type": "stream",
       "stream": "stdout",
       "text": [
        "\n",
        "253"
       ]
      },
      {
       "output_type": "stream",
       "stream": "stdout",
       "text": [
        "\n",
        "254"
       ]
      },
      {
       "output_type": "stream",
       "stream": "stdout",
       "text": [
        "\n",
        "255"
       ]
      },
      {
       "output_type": "stream",
       "stream": "stdout",
       "text": [
        "\n",
        "256"
       ]
      },
      {
       "output_type": "stream",
       "stream": "stdout",
       "text": [
        "\n",
        "257"
       ]
      },
      {
       "output_type": "stream",
       "stream": "stdout",
       "text": [
        "\n",
        "258"
       ]
      },
      {
       "output_type": "stream",
       "stream": "stdout",
       "text": [
        "\n",
        "259"
       ]
      },
      {
       "output_type": "stream",
       "stream": "stdout",
       "text": [
        "\n",
        "260"
       ]
      },
      {
       "output_type": "stream",
       "stream": "stdout",
       "text": [
        "\n",
        "261"
       ]
      },
      {
       "output_type": "stream",
       "stream": "stdout",
       "text": [
        "\n",
        "262"
       ]
      },
      {
       "output_type": "stream",
       "stream": "stdout",
       "text": [
        "\n",
        "263"
       ]
      },
      {
       "output_type": "stream",
       "stream": "stdout",
       "text": [
        "\n",
        "264"
       ]
      },
      {
       "output_type": "stream",
       "stream": "stdout",
       "text": [
        "\n",
        "265"
       ]
      },
      {
       "output_type": "stream",
       "stream": "stdout",
       "text": [
        "\n",
        "266"
       ]
      },
      {
       "output_type": "stream",
       "stream": "stdout",
       "text": [
        "\n",
        "267"
       ]
      },
      {
       "output_type": "stream",
       "stream": "stdout",
       "text": [
        "\n",
        "268"
       ]
      },
      {
       "output_type": "stream",
       "stream": "stdout",
       "text": [
        "\n",
        "269"
       ]
      },
      {
       "output_type": "stream",
       "stream": "stdout",
       "text": [
        "\n",
        "270"
       ]
      },
      {
       "output_type": "stream",
       "stream": "stdout",
       "text": [
        "\n",
        "271"
       ]
      },
      {
       "output_type": "stream",
       "stream": "stdout",
       "text": [
        "\n",
        "272"
       ]
      },
      {
       "output_type": "stream",
       "stream": "stdout",
       "text": [
        "\n",
        "273"
       ]
      },
      {
       "output_type": "stream",
       "stream": "stdout",
       "text": [
        "\n",
        "274"
       ]
      },
      {
       "output_type": "stream",
       "stream": "stdout",
       "text": [
        "\n",
        "275"
       ]
      },
      {
       "output_type": "stream",
       "stream": "stdout",
       "text": [
        "\n",
        "276"
       ]
      },
      {
       "output_type": "stream",
       "stream": "stdout",
       "text": [
        "\n",
        "277"
       ]
      },
      {
       "output_type": "stream",
       "stream": "stdout",
       "text": [
        "\n",
        "278"
       ]
      },
      {
       "output_type": "stream",
       "stream": "stdout",
       "text": [
        "\n",
        "279"
       ]
      },
      {
       "output_type": "stream",
       "stream": "stdout",
       "text": [
        "\n",
        "280"
       ]
      },
      {
       "output_type": "stream",
       "stream": "stdout",
       "text": [
        "\n",
        "281"
       ]
      },
      {
       "output_type": "stream",
       "stream": "stdout",
       "text": [
        "\n",
        "282"
       ]
      },
      {
       "output_type": "stream",
       "stream": "stdout",
       "text": [
        "\n",
        "283"
       ]
      },
      {
       "output_type": "stream",
       "stream": "stdout",
       "text": [
        "\n",
        "284"
       ]
      },
      {
       "output_type": "stream",
       "stream": "stdout",
       "text": [
        "\n",
        "285"
       ]
      },
      {
       "output_type": "stream",
       "stream": "stdout",
       "text": [
        "\n",
        "286"
       ]
      },
      {
       "output_type": "stream",
       "stream": "stdout",
       "text": [
        "\n",
        "287"
       ]
      },
      {
       "output_type": "stream",
       "stream": "stdout",
       "text": [
        "\n",
        "288"
       ]
      },
      {
       "output_type": "stream",
       "stream": "stdout",
       "text": [
        "\n",
        "289"
       ]
      },
      {
       "output_type": "stream",
       "stream": "stdout",
       "text": [
        "\n",
        "290"
       ]
      },
      {
       "output_type": "stream",
       "stream": "stdout",
       "text": [
        "\n",
        "291"
       ]
      },
      {
       "output_type": "stream",
       "stream": "stdout",
       "text": [
        "\n",
        "292"
       ]
      },
      {
       "output_type": "stream",
       "stream": "stdout",
       "text": [
        "\n",
        "293"
       ]
      },
      {
       "output_type": "stream",
       "stream": "stdout",
       "text": [
        "\n",
        "294"
       ]
      },
      {
       "output_type": "stream",
       "stream": "stdout",
       "text": [
        "\n",
        "295"
       ]
      },
      {
       "output_type": "stream",
       "stream": "stdout",
       "text": [
        "\n",
        "296"
       ]
      },
      {
       "output_type": "stream",
       "stream": "stdout",
       "text": [
        "\n",
        "297"
       ]
      },
      {
       "output_type": "stream",
       "stream": "stdout",
       "text": [
        "\n",
        "298"
       ]
      },
      {
       "output_type": "stream",
       "stream": "stdout",
       "text": [
        "\n",
        "299"
       ]
      },
      {
       "output_type": "stream",
       "stream": "stdout",
       "text": [
        "\n"
       ]
      }
     ],
     "prompt_number": 18
    },
    {
     "cell_type": "code",
     "collapsed": false,
     "input": [
      "dfB['list_dit'] = dict_list"
     ],
     "language": "python",
     "metadata": {},
     "outputs": [],
     "prompt_number": 21
    },
    {
     "cell_type": "code",
     "collapsed": false,
     "input": [
      "import pickle\n",
      "# Saving the objects:\n",
      "with open('objs.pickle', 'w') as f:\n",
      "    pickle.dump(dict_list, f)"
     ],
     "language": "python",
     "metadata": {},
     "outputs": [],
     "prompt_number": 30
    },
    {
     "cell_type": "code",
     "collapsed": false,
     "input": [],
     "language": "python",
     "metadata": {},
     "outputs": []
    },
    {
     "cell_type": "code",
     "collapsed": false,
     "input": [
      "print vals.max()\n",
      "print vals.mean()"
     ],
     "language": "python",
     "metadata": {},
     "outputs": [
      {
       "output_type": "stream",
       "stream": "stdout",
       "text": [
        "3.95865547177\n",
        "1.70354953562\n"
       ]
      }
     ],
     "prompt_number": 169
    },
    {
     "cell_type": "code",
     "collapsed": false,
     "input": [
      "dfB['Weather_Station'] = stations\n",
      "dfB['W_Station_distance'] = vals"
     ],
     "language": "python",
     "metadata": {},
     "outputs": [],
     "prompt_number": 10
    },
    {
     "cell_type": "code",
     "collapsed": false,
     "input": [
      "dfB.to_csv('/Users/kevm1892/Documents/new_bike_data.csv')\n",
      "df_2.to_csv('/Users/kevm1892/Documents/new_weather_data.csv')"
     ],
     "language": "python",
     "metadata": {},
     "outputs": [],
     "prompt_number": 11
    },
    {
     "cell_type": "code",
     "collapsed": false,
     "input": [
      "# A simple function for calculating the closest weather station for each bike station\n",
      "def match_stations(b_s,w_s):\n",
      "   b_s = b_s[']\n"
     ],
     "language": "python",
     "metadata": {},
     "outputs": [],
     "prompt_number": 88
    },
    {
     "cell_type": "code",
     "collapsed": false,
     "input": [
      "g = df_2['STATION'].unique()\n",
      "b = dfB[0:1]\n",
      "dists = dict()\n",
      "for i in g:\n",
      "    dists[i] = calc_distance(b['latitude'][0],b['longitude'][0],float(df_2[df_2['STATION'] == i]['LATITUDE'].unique()[0]),float(df_2[df_2['STATION'] == i]['LONGITUDE'].unique()[0]))"
     ],
     "language": "python",
     "metadata": {},
     "outputs": [],
     "prompt_number": 91
    },
    {
     "cell_type": "code",
     "collapsed": false,
     "input": [
      "g = df_2['STATION'].unique()\n",
      "float(df_2[df_2['STATION'] == s]['LATITUDE'].unique()[0])"
     ],
     "language": "python",
     "metadata": {},
     "outputs": [
      {
       "metadata": {},
       "output_type": "pyout",
       "prompt_number": 42,
       "text": [
        "41.8929"
       ]
      }
     ],
     "prompt_number": 42
    }
   ],
   "metadata": {}
  }
 ]
}