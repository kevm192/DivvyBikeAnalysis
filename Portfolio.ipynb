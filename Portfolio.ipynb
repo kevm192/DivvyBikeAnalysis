{
 "metadata": {
  "name": "",
  "signature": "sha256:2d14f7faad94d64be31964cfae794bfafaec1cef2491c6427ec6d7bc1d29d3db"
 },
 "nbformat": 3,
 "nbformat_minor": 0,
 "worksheets": [
  {
   "cells": [
    {
     "cell_type": "heading",
     "level": 1,
     "metadata": {},
     "source": [
      "Kevin Mueller's Portfolio"
     ]
    },
    {
     "cell_type": "heading",
     "level": 5,
     "metadata": {},
     "source": [
      "Welcome to my portfolio! Over the years, I have worked on a great deal of projects in many different disiplines. It is my hope that this portfolio can serve as a sample of my work and skills related to applied mathematics, data analysis, and general programming knowledge. Each project is listed with its corresponding github page. Many of the pages will link you to ipython notebook pages which will attempt to do a better job at explaining the code and project. I hope you enjoy the portfolio and if you have any questions or comments feel free to email me at [kevinm36@uw.edu](kevinm36@uw.edu)."
     ]
    },
    {
     "cell_type": "markdown",
     "metadata": {},
     "source": [
      "*Note: In some cases, I could not provide code (datasets) because of either copyright or that it would provide future students with solutions.*"
     ]
    },
    {
     "cell_type": "heading",
     "level": 2,
     "metadata": {},
     "source": [
      "1. Divvy Bike Analysis"
     ]
    },
    {
     "cell_type": "markdown",
     "metadata": {},
     "source": [
      "This project was what I chose for my 3rd project for the [Data Analysis Nanodegree](https://www.udacity.com/course/nd002)  provided through Udacity. It was probably my favorite simply because there were very few restricitions on how we chose to explore the data. Divvy is a bike rental company located in Chicago that happens to have all their rental data on the internet for free. I took this bike data and combined it with weather data for the greater chicago area provided from NOAA. This project was broken into two parts:\n",
      "* Data Wrangling the Datasets in python\n",
      "* Performing Data Analysis in R-Studio\n",
      "\n",
      "Github Link: "
     ]
    },
    {
     "cell_type": "heading",
     "level": 2,
     "metadata": {},
     "source": [
      "2. Recommendation Engine for Movielens dataset"
     ]
    },
    {
     "cell_type": "markdown",
     "metadata": {},
     "source": [
      "This project was the final project for the Intro to Machine Learning course I took through Georgia Tech's Professional Education program. For this project we were required to try to accurately predict unknown user ratings for a set of movies from a sample of given rating-user pairs provided in the well-studied MovieLens dataset. "
     ]
    },
    {
     "cell_type": "markdown",
     "metadata": {},
     "source": [
      "<cite data-cite=\"granger2013\">(Granger, 2013)</cite>"
     ]
    },
    {
     "cell_type": "markdown",
     "metadata": {},
     "source": [
      "[IPython's website](http://ipython.org)"
     ]
    },
    {
     "cell_type": "heading",
     "level": 2,
     "metadata": {},
     "source": [
      "3. Kanade\u2013Lucas\u2013Tomasi (KLT) Feature Tracker"
     ]
    },
    {
     "cell_type": "markdown",
     "metadata": {},
     "source": [
      "This project was a personal project that I worked on to better understand computer vision and image processing tasks using matlab. The main goal of the project was to seperately track and assess the dynamics of the KLT points on a face by preclassifying them. It made use of many of the already provided functions in matlab's computer vision and image processing toolboxes. However, did involve a small linear classifier in order to properly classify the facial regions.\n",
      "\n",
      "In addition to tracking the points in the video stream. I also built an engine designed to build a dataset of the location of the points for various facial poses. This was done using Blender's game engine in order to automate the process. One of the more interesting parts of this dataset was getting the distances and scalings correct, so that the simulation would accurately simulate the real world. Luckily this was not too difficult to do using the functionality of Blender."
     ]
    },
    {
     "cell_type": "heading",
     "level": 2,
     "metadata": {},
     "source": [
      "4. Senior Design - Automated Foosball Table (Computer Vision Tasks)"
     ]
    },
    {
     "cell_type": "markdown",
     "metadata": {},
     "source": [
      "The required task was to use matlab in order to accurately track ball and player data for an automatic foosball table. This was achieved by using color coding and histograms for attaining probabilities of a color being in view. The matlab program then would be required to process the data and send it to a java AI program. One of the more difficult hurdles of this project was an issue of performance tracking multiple-colors on the CPU. This was remedied by using OpenCL in combination with matlab in order to paraellize this task on the GPU."
     ]
    },
    {
     "cell_type": "markdown",
     "metadata": {},
     "source": [
      "##5. Functional Magnetic Resonance Imaging (fMRI) Prespentation\n",
      "For this project there was no programming involved but it did require me to give two presentations on a technical research paper. The research paper I chose to present on was [Dynamic modeling of neuronal responses in fMRI using cubature Kalman filtering](http://www.ncbi.nlm.nih.gov/pubmed/21396454). The goal of the research paper was to accurately predict the underlying neural signal using only the BOLD signal and knowledge of the dynamics of the system. I've provided the slides I used for the presentation, as well as the research paper that does a better job of explaining the slides."
     ]
    }
   ],
   "metadata": {}
  }
 ]
}